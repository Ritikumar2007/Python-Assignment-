{
 "cells": [
  {
   "cell_type": "code",
   "execution_count": null,
   "id": "4c880e4f-87bd-4e39-bd09-3a9f4d98ea02",
   "metadata": {},
   "outputs": [],
   "source": [
    "a=int(input(\"enter number\")) # to take input from user\n",
    "b=int(input(\"enter number\"))\n",
    "print(\"addition:\",a+b) # to print the given operation\n",
    "print(\"substraction:\",a-b)\n",
    "print(\"multiplication:\",a*b)\n",
    "print(\"division:\",round(a/b,2))\n",
    "print(\"modules:\",a%b)\n",
    "print(\"exponentiation:\",a**b)\n",
    "print(\"floor division:1\",a//b)"
   ]
  },
  {
   "cell_type": "code",
   "execution_count": null,
   "id": "cb5a7084-31f7-4350-8ed3-9dc467c9c8e5",
   "metadata": {},
   "outputs": [],
   "source": [
    "a=int(input(\"enter number:\")) # to take input from user\n",
    "b=int(input(\"enter number:\"))\n",
    "if a>b: #to check the given condition that a is grater than b\n",
    "    print(\"a is greater than b\") #if true then it will print a is greater than b\n",
    "elif a==b:\n",
    "    print(\"a is equal to b\") # if it is equal then it will print a is equal to b\n",
    "else:\n",
    "    print(\"a is less than b\") # if all the above condition id false then it will print a is less than b\n"
   ]
  },
  {
   "cell_type": "code",
   "execution_count": null,
   "id": "1e4163e2-ec31-4a04-bda5-ab90d4f719ad",
   "metadata": {},
   "outputs": [],
   "source": [
    "a=(input(\"enter value:\")).strip().lower()==\"true\" # to take the input from user\n",
    "b=(input(\"enter value:\")).strip().lower()==\"true\"  # strip is used to clear the white space\n",
    "c=(input(\"enter value:\")).strip().lower()==\"true\"\n",
    "v1=a and b and c\n",
    "v2=a or b or c\n",
    "v3= not a\n",
    "v4= not b\n",
    "v5= not c\n",
    "print(v1)\n",
    "print(v2)\n",
    "print(v3)\n",
    "print(v4)\n",
    "print(v5)"
   ]
  },
  {
   "cell_type": "code",
   "execution_count": null,
   "id": "0bf48f32-406d-40d7-9e90-d689bca42033",
   "metadata": {},
   "outputs": [],
   "source": [
    "a=input(\"enter string:\") # to take input fron user\n",
    "print(len(a)) # to print the length of the input\n",
    "print(a[0]) # to print the first letter of the input\n",
    "print(a[-1]) # to print last letter of the input\n",
    "print(a[::-1]) # to print the input in reverse\n",
    "print(a.lower()) # to print the input in lowercase\n",
    "print(a.upper()) #to print the input in uppercase\n"
   ]
  },
  {
   "cell_type": "code",
   "execution_count": null,
   "id": "de6e2a03-b037-4f9c-8e03-164ed69a1e0d",
   "metadata": {},
   "outputs": [],
   "source": [
    "name=input(\"enter name:\") #to take the input from user\n",
    "age=input(\"enter age:\")\n",
    "print(f\"hello{name},you are {age} year old\") #to print the name and age between the output we use f string "
   ]
  },
  {
   "cell_type": "code",
   "execution_count": null,
   "id": "57ea0718-641f-44d1-86ab-e2c4b3b7ee5c",
   "metadata": {},
   "outputs": [],
   "source": [
    "a=input(\"enter a sentence:\")  # to take the input from user\n",
    "b=input(\"enter word:\")\n",
    "if b in a:     # to check that the word is their in sentence\n",
    "    index=a.find(b)      # find function is use to find the word out of the given sentence\n",
    "    print(f\"word{b}is there in index{index}\")     # if the word is found then it will print \n",
    "else:\n",
    "    print(f\"the is given{b} word is not there\")     #if word is not found then it will "
   ]
  },
  {
   "cell_type": "code",
   "execution_count": null,
   "id": "06413848-f6a5-485b-89b4-dc4220975cc5",
   "metadata": {},
   "outputs": [],
   "source": [
    "a=[]  # to create list\n",
    "for i in range(5):  # to take the input five time\n",
    "    b=int(input(f\"Enter No.{i+1}:\")) # after taking each value it will increment to +1\n",
    "    a.append(b)    # to put the values in the empty list\n",
    "c=sum(a)     #to add all the given values\n",
    "d=max(a)    # to print the greatest value\n",
    "e=min(a)   #to print the smallest value\n",
    "print(a)\n",
    "print(c)\n",
    "print(d)\n",
    "print(e)\n"
   ]
  },
  {
   "cell_type": "code",
   "execution_count": null,
   "id": "4d3d030f-629e-4bb8-8b82-e746e3972c68",
   "metadata": {},
   "outputs": [],
   "source": [
    "a=[]  # to create list\n",
    "for i in range(5):   # to take the input five time\n",
    "    b=input(f\"enter fruit{i+1}:\")  # after taking one fav fruit number of fav fruit it will increment to +1 to 5\n",
    "    a.append(b)  # to put the fruits in the empty list\n",
    "print(f\"fav fruit are:{a}\") # to print the selected fruits\n",
    "c=input(\"enter one more fruit:\") # to take one more fruit\n",
    "a.append(c) # to addd in the list of fav fruit\n",
    "print(f\"fav fruit are:{a}\")\n",
    "d=a.pop(1) # to remove the fruit from the list in the index of 1\n",
    "print(f\"now the list of fav fruit are:{a}\") # to print the final list of updated fruits\n"
   ]
  },
  {
   "cell_type": "code",
   "execution_count": null,
   "id": "eedcebcc-4c9e-4534-9fb2-9f5421dea672",
   "metadata": {},
   "outputs": [],
   "source": [
    "a=[]  # to create list\n",
    "for i in range (5):   # to take the input five time\n",
    "    b=int(input(f\"enter number.{i+1}:\"))  # after taking each value it will increment to +1\n",
    "    a.append(b)    # to put the values in the empty list\n",
    "a.sort() # to arrange the number in ascending order\n",
    "print(\"the ascending order of the number is:\",a)\n",
    "a.sort(reverse=True)  # to print the given number in descending order\n",
    "print(\"the descending order of the number is:\",a)"
   ]
  },
  {
   "cell_type": "code",
   "execution_count": null,
   "id": "afc1ff85-d7a8-40b4-9f47-5db3a75dd416",
   "metadata": {},
   "outputs": [],
   "source": [
    "a=[\"1\",\"2\",\"3\",\"4\",\"5\",\"6\",\"7\",\"8\",\"9\",\"10\"]\n",
    "print(a[0:5]) # to print the first 5 numbers\n",
    "print(a[-5:]) # to print the last 5 numbers\n",
    "print(a[2:8]) # to print the number between the index of 2 to 8"
   ]
  },
  {
   "cell_type": "code",
   "execution_count": null,
   "id": "0f0db1af-1fc2-4503-891d-e39c84131c63",
   "metadata": {},
   "outputs": [],
   "source": [
    "a=[] #to create a list\n",
    "for i in range(3): # to take input 3 times\n",
    "    name=input(\"enter name of the student:\") # to print students name\n",
    "    b=[] # to create the another list in for the nested lopps\n",
    "    for j in range(3): # to take input 3 times\n",
    "        marks=int(input(f\"enter mark{j+1}:\")) # to print marks of the students\n",
    "        b.append(marks) #to add the marks in the nested list\n",
    "    a.append([name,b]) # to add the name and mark in list(a)\n",
    "for i in a: # to take the loop list\n",
    "    average=sum(i[1])/len(i[1]) # to calculate the average mark of the student\n",
    "    print(f\"student:{i[0]},average score:{average}\") #to print the name and the average mark off the student"
   ]
  }
 ],
 "metadata": {
  "kernelspec": {
   "display_name": "Python 3 (ipykernel)",
   "language": "python",
   "name": "python3"
  },
  "language_info": {
   "codemirror_mode": {
    "name": "ipython",
    "version": 3
   },
   "file_extension": ".py",
   "mimetype": "text/x-python",
   "name": "python",
   "nbconvert_exporter": "python",
   "pygments_lexer": "ipython3",
   "version": "3.12.4"
  }
 },
 "nbformat": 4,
 "nbformat_minor": 5
}
